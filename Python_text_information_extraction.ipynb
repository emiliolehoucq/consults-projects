{
 "cells": [
  {
   "cell_type": "markdown",
   "metadata": {},
   "source": [
    "# Extracting rows with salary information\n",
    "\n",
    "Emilio Lehoucq - 6/6/24\n",
    "\n",
    "## Importing libraries"
   ]
  },
  {
   "cell_type": "code",
   "execution_count": 1,
   "metadata": {},
   "outputs": [],
   "source": [
    "import pandas as pd\n",
    "import re"
   ]
  },
  {
   "cell_type": "markdown",
   "metadata": {},
   "source": [
    "## Reading data"
   ]
  },
  {
   "cell_type": "code",
   "execution_count": 2,
   "metadata": {},
   "outputs": [
    {
     "name": "stdout",
     "output_type": "stream",
     "text": [
      "Number of rows: 2308\n"
     ]
    }
   ],
   "source": [
    "df = pd.read_csv('cesnet_data_march_6_2024.csv')\n",
    "print(f'Number of rows: {len(df)}')"
   ]
  },
  {
   "cell_type": "markdown",
   "metadata": {},
   "source": [
    "## Identifying rows with salary information"
   ]
  },
  {
   "cell_type": "code",
   "execution_count": 3,
   "metadata": {},
   "outputs": [
    {
     "name": "stdout",
     "output_type": "stream",
     "text": [
      "There are 61 rows with potential salary\n"
     ]
    }
   ],
   "source": [
    "# Columns to store data\n",
    "df['salary_potential_string'] = None\n",
    "df['salary_potential_flag'] = None\n",
    "\n",
    "# Number of characters around the potential salary to extract\n",
    "N_CHARACTERS = 60\n",
    "\n",
    "# Loop through each row in the dataframe\n",
    "for i, row in df.iterrows():\n",
    "    # Text of the message\n",
    "    text = row['text']\n",
    "    # Check if there seems to be a money sign followed by digits\n",
    "    salary_flag = re.finditer(r'[€£$]\\s?\\d{1,6}', text)\n",
    "    # Variables to store info\n",
    "    list_salary_potential_strings = []\n",
    "    list_salary_potential_flags = []\n",
    "    # Iterate over potential matches\n",
    "    for match in salary_flag:\n",
    "        # Get the index where the info seems to start\n",
    "        start_idx = match.start()\n",
    "        # Get the index where the info seems to end\n",
    "        end_idx = match.end()\n",
    "        # Get characters around the info\n",
    "        start_string = start_idx - N_CHARACTERS\n",
    "        end_string = end_idx + N_CHARACTERS\n",
    "        # Extract info\n",
    "        salary_potential_string = text[start_string:end_string].replace('\\n', ' ').strip().lower()\n",
    "        # Check that the string includes the word 'salary' or 'compensation' or 'pay'\n",
    "        if 'salary' in salary_potential_string or 'compensation' in salary_potential_string or 'pay' in salary_potential_string:\n",
    "            # Store info\n",
    "            list_salary_potential_strings.append(salary_potential_string)\n",
    "            list_salary_potential_flags.append(True)\n",
    "    # Store info in df\n",
    "    df.at[i, 'salary_potential_flag'] = any(list_salary_potential_flags)\n",
    "    if len(list_salary_potential_strings) > 0:\n",
    "        df.at[i, 'salary_potential_string'] = list_salary_potential_strings\n",
    "    # If no salary found so far\n",
    "    else:\n",
    "        # Store None in df\n",
    "        df.at[i, 'salary_potential_string'] = None\n",
    "        # # I WROTE THE CODE BELOW TO CHECK FOR SALARY INFO IN CASE THERE WAS NO MONEY SIGN\n",
    "        # # BUT I LOOKED AT THE OUTPUT AND THERE DOESN'T SEEM TO BE, SO I'M COMMENTING IT OUT\n",
    "        # # Check if text mentions keywords\n",
    "        # if 'salary' in text or 'compensation' in text or 'pay' in text:\n",
    "        #     # Check if text mentions numbers that look like salary\n",
    "        #     salary_flag = re.finditer(r'\\b\\d{1,3}[,.]?\\d{3}\\b', text)\n",
    "        #     # Iterate over potential matches\n",
    "        #     list_salary_potential_strings = []\n",
    "        #     list_salary_potential_flags = []\n",
    "        #     for match in salary_flag:\n",
    "        #         # Get the index where the info seems to start\n",
    "        #         start_idx = match.start()\n",
    "        #         # Get the index where the info seems to end\n",
    "        #         end_idx = match.end()\n",
    "        #         # Get characters around the info\n",
    "        #         start_string = start_idx - N_CHARACTERS\n",
    "        #         end_string = end_idx + N_CHARACTERS\n",
    "        #         # Extract info\n",
    "        #         salary_potential_string = text[start_string:end_string].replace('\\n', ' ').strip().lower()\n",
    "        #         # Check that the string includes the word 'salary' or 'compensation' or 'pay'\n",
    "        #         if 'salary' in salary_potential_string or 'compensation' in salary_potential_string or 'pay' in salary_potential_string:\n",
    "        #             # Store info\n",
    "        #             list_salary_potential_strings.append(salary_potential_string)\n",
    "        #             list_salary_potential_flags.append(True)\n",
    "        #     # If there seems to be salary info\n",
    "        #     if any(list_salary_potential_flags):\n",
    "        #         # Store info in df\n",
    "        #         df.at[i, 'salary_potential_flag'] = True\n",
    "        #         df.at[i, 'salary_potential_string'] = list_salary_potential_strings\n",
    "\n",
    "# Get subset of rows with potential salary\n",
    "df_subset = df[df['salary_potential_string'].notna()]\n",
    "print(f'There are {len(df_subset[df_subset[\"salary_potential_flag\"] == True])} rows with potential salary')"
   ]
  },
  {
   "cell_type": "markdown",
   "metadata": {},
   "source": [
    "## Save to CSV"
   ]
  },
  {
   "cell_type": "code",
   "execution_count": 4,
   "metadata": {},
   "outputs": [],
   "source": [
    "df_subset.to_csv('cesnet_data_march_6_2024_subset_with_salary.csv', index=False)"
   ]
  }
 ],
 "metadata": {
  "kernelspec": {
   "display_name": "venv",
   "language": "python",
   "name": "python3"
  },
  "language_info": {
   "codemirror_mode": {
    "name": "ipython",
    "version": 3
   },
   "file_extension": ".py",
   "mimetype": "text/x-python",
   "name": "python",
   "nbconvert_exporter": "python",
   "pygments_lexer": "ipython3",
   "version": "3.11.5"
  }
 },
 "nbformat": 4,
 "nbformat_minor": 2
}
